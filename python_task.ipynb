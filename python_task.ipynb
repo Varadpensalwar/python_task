{
  "nbformat": 4,
  "nbformat_minor": 0,
  "metadata": {
    "colab": {
      "provenance": []
    },
    "kernelspec": {
      "name": "python3",
      "display_name": "Python 3"
    },
    "language_info": {
      "name": "python"
    }
  },
  "cells": [
    {
      "cell_type": "code",
      "execution_count": 1,
      "metadata": {
        "colab": {
          "base_uri": "https://localhost:8080/"
        },
        "id": "zUEy-ZzhtBKJ",
        "outputId": "f51c632e-e5cc-4093-f526-5325ff2aea62"
      },
      "outputs": [
        {
          "output_type": "stream",
          "name": "stdout",
          "text": [
            "0\n"
          ]
        }
      ],
      "source": [
        "def product_of_numbers(input_list):\n",
        "    flat_list = []\n",
        "\n",
        "    def flatten(lst):\n",
        "        for item in lst:\n",
        "            if isinstance(item, (list, tuple, set)):\n",
        "                flatten(item)\n",
        "            elif isinstance(item, dict):\n",
        "                flatten(item.keys())\n",
        "                flatten(item.values())\n",
        "            elif isinstance(item, (int, float)):\n",
        "                flat_list.append(item)\n",
        "\n",
        "    flatten(input_list)\n",
        "\n",
        "    result = 1\n",
        "    for num in flat_list:\n",
        "        result *= num\n",
        "\n",
        "    return result\n",
        "\n",
        "# Example usage with the provided list\n",
        "list1 = [1, 2, 3, 4, [44, 55, 66, True], False, (34, 56, 78, 89, 34), {1, 2, 3, 3, 2, 1}, {1: 34, \"key2\": [55, 67, 78, 89], 4: (45, 22, 61, 34)}, [56, 'data science'], 'Machine Learning']\n",
        "\n",
        "result = product_of_numbers(list1)\n",
        "print(result)\n"
      ]
    },
    {
      "cell_type": "code",
      "source": [
        "def encrypt_message(message):\n",
        "    encrypted_text = \"\"\n",
        "\n",
        "    for char in message:\n",
        "        if char.isalpha():\n",
        "            # Encrypt alphabets\n",
        "            if char.islower():\n",
        "                encrypted_text += chr(ord('z') - (ord(char) - ord('a')))\n",
        "            else:\n",
        "                encrypted_text += chr(ord('Z') - (ord(char) - ord('A')))\n",
        "        elif char.isspace():\n",
        "            # Replace whitespace with a dollar sign\n",
        "            encrypted_text += '$'\n",
        "        else:\n",
        "            # Keep punctuation marks unchanged\n",
        "            encrypted_text += char\n",
        "\n",
        "    return encrypted_text\n",
        "\n",
        "# Example usage with the provided input sentence\n",
        "input_sentence = \"I want to become a Data Scientist.\"\n",
        "lowercase_input = input_sentence.lower()\n",
        "encrypted_result = encrypt_message(lowercase_input)\n",
        "\n",
        "print(encrypted_result)"
      ],
      "metadata": {
        "colab": {
          "base_uri": "https://localhost:8080/"
        },
        "id": "eEFE6BhVtKeG",
        "outputId": "1bf79dbb-744b-4601-b2be-88c3edc55cae"
      },
      "execution_count": 2,
      "outputs": [
        {
          "output_type": "stream",
          "name": "stdout",
          "text": [
            "r$dzmg$gl$yvxlnv$z$wzgz$hxrvmgrhg.\n"
          ]
        }
      ]
    }
  ]
}